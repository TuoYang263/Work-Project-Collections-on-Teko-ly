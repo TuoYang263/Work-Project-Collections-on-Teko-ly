{
 "cells": [
  {
   "cell_type": "markdown",
   "id": "bdddbfee",
   "metadata": {},
   "source": [
    "The goal of this project is to make a difference between real and fake news with python. Using sklearn, a <br>TfidfVectorizer on the dataset will be built. Then, a PassiveAggressiveClassifier will be initialized and used to fit the model. Finally, the accuracy score and the confusion matrix will evaluate how well this model is. <br><br>\n",
    "Two algorithms will be used right here: TfidfVectorizer and PassiveAggerssiveClassifier<br>\n",
    "(1) The TfidfVectorizer converts a collection of raw documents into a matrix of TF-IDF features<br>\n",
    "(2) Passive Aggressive algorithms are online learning algorithms. Such an algorithm remains\n",
    "   passive for a<br> correct classification outcome, and turns aggressive in the event of a\n",
    "   miscalculation, updating, and <br>adjusting. Unlike most other algorithms, it does not converge.\n",
    "   Its purpose is to make updates that correct the loss, causing very little change in the norm\n",
    "   of the weight vector\n",
    "\n"
   ]
  },
  {
   "cell_type": "code",
   "execution_count": 85,
   "id": "d9ee8fc8",
   "metadata": {},
   "outputs": [],
   "source": [
    "\"\"\"\n",
    "1. Import required libraries\n",
    "\"\"\"\n",
    "import numpy as np\n",
    "import pandas as pd\n",
    "import itertools\n",
    "import matplotlib.pyplot as plt\n",
    "from sklearn.model_selection import train_test_split\n",
    "from sklearn.feature_extraction.text import TfidfVectorizer\n",
    "from sklearn.linear_model import PassiveAggressiveClassifier\n",
    "from sklearn.metrics import accuracy_score, confusion_matrix,\\\n",
    "     precision_score, recall_score, f1_score, roc_curve, roc_auc_score\n",
    "from sklearn.preprocessing import LabelEncoder"
   ]
  },
  {
   "cell_type": "code",
   "execution_count": 67,
   "id": "b53370f6",
   "metadata": {},
   "outputs": [
    {
     "data": {
      "text/plain": [
       "(6335, 4)"
      ]
     },
     "execution_count": 67,
     "metadata": {},
     "output_type": "execute_result"
    }
   ],
   "source": [
    "\"\"\"\n",
    "2. Read the data into a DataFrame, and gget the shape of the data and the first 5 records\n",
    "Dataset:news.csv, which has a shape 6335x4. The four attributes respectively are news_id, \n",
    "title, text, and labels denoting if the news is REAL or FAKE\n",
    "\"\"\"\n",
    "# Read the data\n",
    "news_data = pd.read_csv('news.csv')\n",
    "\n",
    "# Get the shape\n",
    "news_data.shape"
   ]
  },
  {
   "cell_type": "code",
   "execution_count": 68,
   "id": "06598b0c",
   "metadata": {},
   "outputs": [
    {
     "data": {
      "text/html": [
       "<div>\n",
       "<style scoped>\n",
       "    .dataframe tbody tr th:only-of-type {\n",
       "        vertical-align: middle;\n",
       "    }\n",
       "\n",
       "    .dataframe tbody tr th {\n",
       "        vertical-align: top;\n",
       "    }\n",
       "\n",
       "    .dataframe thead th {\n",
       "        text-align: right;\n",
       "    }\n",
       "</style>\n",
       "<table border=\"1\" class=\"dataframe\">\n",
       "  <thead>\n",
       "    <tr style=\"text-align: right;\">\n",
       "      <th></th>\n",
       "      <th>Unnamed: 0</th>\n",
       "      <th>title</th>\n",
       "      <th>text</th>\n",
       "      <th>label</th>\n",
       "    </tr>\n",
       "  </thead>\n",
       "  <tbody>\n",
       "    <tr>\n",
       "      <th>0</th>\n",
       "      <td>8476</td>\n",
       "      <td>You Can Smell Hillary’s Fear</td>\n",
       "      <td>Daniel Greenfield, a Shillman Journalism Fello...</td>\n",
       "      <td>FAKE</td>\n",
       "    </tr>\n",
       "    <tr>\n",
       "      <th>1</th>\n",
       "      <td>10294</td>\n",
       "      <td>Watch The Exact Moment Paul Ryan Committed Pol...</td>\n",
       "      <td>Google Pinterest Digg Linkedin Reddit Stumbleu...</td>\n",
       "      <td>FAKE</td>\n",
       "    </tr>\n",
       "    <tr>\n",
       "      <th>2</th>\n",
       "      <td>3608</td>\n",
       "      <td>Kerry to go to Paris in gesture of sympathy</td>\n",
       "      <td>U.S. Secretary of State John F. Kerry said Mon...</td>\n",
       "      <td>REAL</td>\n",
       "    </tr>\n",
       "    <tr>\n",
       "      <th>3</th>\n",
       "      <td>10142</td>\n",
       "      <td>Bernie supporters on Twitter erupt in anger ag...</td>\n",
       "      <td>— Kaydee King (@KaydeeKing) November 9, 2016 T...</td>\n",
       "      <td>FAKE</td>\n",
       "    </tr>\n",
       "    <tr>\n",
       "      <th>4</th>\n",
       "      <td>875</td>\n",
       "      <td>The Battle of New York: Why This Primary Matters</td>\n",
       "      <td>It's primary day in New York and front-runners...</td>\n",
       "      <td>REAL</td>\n",
       "    </tr>\n",
       "  </tbody>\n",
       "</table>\n",
       "</div>"
      ],
      "text/plain": [
       "   Unnamed: 0                                              title  \\\n",
       "0        8476                       You Can Smell Hillary’s Fear   \n",
       "1       10294  Watch The Exact Moment Paul Ryan Committed Pol...   \n",
       "2        3608        Kerry to go to Paris in gesture of sympathy   \n",
       "3       10142  Bernie supporters on Twitter erupt in anger ag...   \n",
       "4         875   The Battle of New York: Why This Primary Matters   \n",
       "\n",
       "                                                text label  \n",
       "0  Daniel Greenfield, a Shillman Journalism Fello...  FAKE  \n",
       "1  Google Pinterest Digg Linkedin Reddit Stumbleu...  FAKE  \n",
       "2  U.S. Secretary of State John F. Kerry said Mon...  REAL  \n",
       "3  — Kaydee King (@KaydeeKing) November 9, 2016 T...  FAKE  \n",
       "4  It's primary day in New York and front-runners...  REAL  "
      ]
     },
     "execution_count": 68,
     "metadata": {},
     "output_type": "execute_result"
    }
   ],
   "source": [
    "# Get the head (the first five lines)\n",
    "news_data.head()"
   ]
  },
  {
   "cell_type": "code",
   "execution_count": 69,
   "id": "4bd184b3",
   "metadata": {},
   "outputs": [
    {
     "data": {
      "text/plain": [
       "0    FAKE\n",
       "1    FAKE\n",
       "2    REAL\n",
       "3    FAKE\n",
       "4    REAL\n",
       "Name: label, dtype: object"
      ]
     },
     "execution_count": 69,
     "metadata": {},
     "output_type": "execute_result"
    }
   ],
   "source": [
    "# Get the labels from the DataFrame\n",
    "labels = news_data.label\n",
    "labels.head()"
   ]
  },
  {
   "cell_type": "code",
   "execution_count": 70,
   "id": "8d7735be",
   "metadata": {},
   "outputs": [],
   "source": [
    "\"\"\"\n",
    "5.Split the dataset into training and testing sets. Use text of news as the model's inputs, labels of news as the model's outputs\n",
    "\"\"\"\n",
    "x_train, x_test, y_train, y_test = train_test_split(news_data['text'], labels, test_size=0.2, random_state=7)"
   ]
  },
  {
   "cell_type": "code",
   "execution_count": 78,
   "id": "6411ad6d",
   "metadata": {},
   "outputs": [
    {
     "name": "stdout",
     "output_type": "stream",
     "text": [
      "Accuracy: 93.05%\n"
     ]
    }
   ],
   "source": [
    "\"\"\"\n",
    "6.TfidfVectorizer initialization, the following settings in the codes aim to stop words from English language and \n",
    "discard terms with a high document frequency over 0.7. This words filtering process will be done before processing\n",
    "the natural language data. A TfidfVectorizer turns a collection of raw documents into a matrix of TF-IDF features\n",
    "\"\"\"\n",
    "# Initialize a TfidfVectorizer\n",
    "tfidf_vectorizer = TfidfVectorizer(stop_words='english', max_df=0.7)\n",
    "\n",
    "# Fit and transform train set, transform test set\n",
    "tfidf_train = tfidf_vectorizer.fit_transform(x_train)\n",
    "tfidf_test = tfidf_vectorizer.transform(x_test)\n",
    "\n",
    "\"\"\"\n",
    "7.PassiveAggressiveClassifier Initialization\n",
    "\"\"\"\n",
    "# Initialize a PassiveAggressiveClassifier\n",
    "pac = PassiveAggressiveClassifier(max_iter=50)\n",
    "pac.fit(tfidf_train, y_train)\n",
    "\n",
    "# Predict on the testing dataset and calculate accuracy\n",
    "y_pred = pac.predict(tfidf_test)\n",
    "\n",
    "# Create an encoder converting string labels into digital ones\n",
    "encoder = LabelEncoder()\n",
    "y_test_encoding = encoder.fit_transform(y_test)\n",
    "y_pred_encoding = encoder.fit_transform(y_pred)\n",
    "\n",
    "# Calculate the accuracy of this model\n",
    "score = accuracy_score(y_test_encoding, y_pred_encoding)\n",
    "print(f'Accuracy: {round(score*100, 2)}%')"
   ]
  },
  {
   "cell_type": "code",
   "execution_count": 79,
   "id": "99a747bd",
   "metadata": {},
   "outputs": [
    {
     "data": {
      "text/plain": [
       "array([[592,  46],\n",
       "       [ 42, 587]], dtype=int64)"
      ]
     },
     "execution_count": 79,
     "metadata": {},
     "output_type": "execute_result"
    }
   ],
   "source": [
    "# Build a confusion matrix\n",
    "confusion_matrix(y_test_encoding, y_pred_encoding)"
   ]
  },
  {
   "cell_type": "code",
   "execution_count": 80,
   "id": "27d38a1e",
   "metadata": {},
   "outputs": [
    {
     "data": {
      "text/plain": [
       "0.9273301737756714"
      ]
     },
     "execution_count": 80,
     "metadata": {},
     "output_type": "execute_result"
    }
   ],
   "source": [
    "# Precision score of the model\n",
    "precision_score(y_test_encoding, y_pred_encoding)"
   ]
  },
  {
   "cell_type": "code",
   "execution_count": 81,
   "id": "76810a77",
   "metadata": {},
   "outputs": [
    {
     "data": {
      "text/plain": [
       "0.9332273449920508"
      ]
     },
     "execution_count": 81,
     "metadata": {},
     "output_type": "execute_result"
    }
   ],
   "source": [
    "# Recall score of the model\n",
    "recall_score(y_test_encoding, y_pred_encoding)"
   ]
  },
  {
   "cell_type": "code",
   "execution_count": 82,
   "id": "0b8c9337",
   "metadata": {},
   "outputs": [
    {
     "data": {
      "text/plain": [
       "0.93026941362916"
      ]
     },
     "execution_count": 82,
     "metadata": {},
     "output_type": "execute_result"
    }
   ],
   "source": [
    "# F1 score of the model\n",
    "f1_score(y_test_encoding, y_pred_encoding)"
   ]
  },
  {
   "cell_type": "code",
   "execution_count": 83,
   "id": "750d97cb",
   "metadata": {},
   "outputs": [
    {
     "data": {
      "text/plain": [
       "0.9305635157562135"
      ]
     },
     "execution_count": 83,
     "metadata": {},
     "output_type": "execute_result"
    }
   ],
   "source": [
    "# ROC AUC of the model\n",
    "roc_auc_score(y_test_encoding, y_pred_encoding)"
   ]
  },
  {
   "cell_type": "code",
   "execution_count": 89,
   "id": "cc463a36",
   "metadata": {},
   "outputs": [
    {
     "data": {
      "text/plain": [
       "(0.0, 1.0, 0.0, 1.0)"
      ]
     },
     "execution_count": 89,
     "metadata": {},
     "output_type": "execute_result"
    },
    {
     "data": {
      "image/png": "[encoded data removed]",
      "text/plain": [
       "<Figure size 576x432 with 1 Axes>"
      ]
     },
     "metadata": {
      "needs_background": "light"
     },
     "output_type": "display_data"
    }
   ],
   "source": [
    "# ROC curve\n",
    "\n",
    "# Getting the value sets of False Positive Rate (FPR), True Positive Rate (TPR), \n",
    "# and thresholds (for various decision scores)\n",
    "fpr, tpr, thresholds = roc_curve(y_test_encoding, y_pred_encoding)  \n",
    "plt.figure(figsize=(8, 6))\n",
    "plt.plot(fpr, tpr, linewidth=2, label=None)\n",
    "plt.plot([0, 1], [0, 1], 'k--') # Dashed diagonal \n",
    "plt.grid(True)\n",
    "plt.xlabel('False Positive Rate')\n",
    "plt.ylabel('True Positive Rate (Recall)')\n",
    "plt.axis([min(fpr), max(fpr), min(tpr), max(tpr)])"
   ]
  },
  {
   "cell_type": "code",
   "execution_count": null,
   "id": "1f3650e4",
   "metadata": {},
   "outputs": [],
   "source": []
  }
 ],
 "metadata": {
  "kernelspec": {
   "display_name": "Python 3 (ipykernel)",
   "language": "python",
   "name": "python3"
  },
  "language_info": {
   "codemirror_mode": {
    "name": "ipython",
    "version": 3
   },
   "file_extension": ".py",
   "mimetype": "text/x-python",
   "name": "python",
   "nbconvert_exporter": "python",
   "pygments_lexer": "ipython3",
   "version": "3.9.7"
  }
 },
 "nbformat": 4,
 "nbformat_minor": 5
}
